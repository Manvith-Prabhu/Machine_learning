{
 "cells": [
  {
   "cell_type": "code",
   "execution_count": 12,
   "metadata": {},
   "outputs": [],
   "source": [
    "import tensorflow as tf\n",
    "from tensorflow.keras.preprocessing import image\n",
    "from tensorflow.keras.layers import GlobalMaxPooling2D\n",
    "from tensorflow.keras.applications.resnet50 import ResNet50, preprocess_input \n",
    "import numpy as np\n",
    "import os\n",
    "from tqdm import tqdm\n",
    "import pickle\n",
    "from sklearn.neighbors import NearestNeighbors\n",
    "import cv2\n"
   ]
  },
  {
   "attachments": {},
   "cell_type": "markdown",
   "metadata": {},
   "source": [
    "# Creating Model"
   ]
  },
  {
   "cell_type": "code",
   "execution_count": 2,
   "metadata": {},
   "outputs": [
    {
     "name": "stdout",
     "output_type": "stream",
     "text": [
      "Model: \"sequential\"\n",
      "_________________________________________________________________\n",
      " Layer (type)                Output Shape              Param #   \n",
      "=================================================================\n",
      " resnet50 (Functional)       (None, 7, 7, 2048)        23587712  \n",
      "                                                                 \n",
      " global_max_pooling2d (Globa  (None, 2048)             0         \n",
      " lMaxPooling2D)                                                  \n",
      "                                                                 \n",
      "=================================================================\n",
      "Total params: 23,587,712\n",
      "Trainable params: 0\n",
      "Non-trainable params: 23,587,712\n",
      "_________________________________________________________________\n"
     ]
    }
   ],
   "source": [
    "model= ResNet50(weights='imagenet',include_top=False,input_shape=(224,224,3))\n",
    "model.trainable=False\n",
    "model=tf.keras.Sequential([\n",
    "model,\n",
    "GlobalMaxPooling2D()\n",
    "])\n",
    "model.summary()\n"
   ]
  },
  {
   "attachments": {},
   "cell_type": "markdown",
   "metadata": {},
   "source": [
    "# Extracting features from data"
   ]
  },
  {
   "cell_type": "code",
   "execution_count": 3,
   "metadata": {},
   "outputs": [],
   "source": [
    "def extract_features(img_path,model):\n",
    "    img=image.load_img(img_path,target_size=(224,224))\n",
    "    img_array=image.img_to_array(img)\n",
    "    expanded_img_array=np.expand_dims(img_array,axis=0)\n",
    "    preprocessed_img=preprocess_input(expanded_img_array)\n",
    "    result=model.predict(preprocessed_img).flatten()\n",
    "    norm_result=result/np.linalg.norm(result)\n",
    "    return norm_result\n"
   ]
  },
  {
   "cell_type": "code",
   "execution_count": 4,
   "metadata": {},
   "outputs": [],
   "source": [
    "filenames1=[]\n",
    "for file in os.listdir('D:\\Programs\\Python\\ML_notebooks\\Fashion_recommendation\\images'):\n",
    "    filenames1.append(os.path.join('D:\\Programs\\Python\\ML_notebooks\\Fashion_recommendation\\images',file))"
   ]
  },
  {
   "cell_type": "code",
   "execution_count": 6,
   "metadata": {},
   "outputs": [],
   "source": [
    "# feature_list=[]\n",
    "# for file in tqdm(filenames):\n",
    "#     feature_list.append(extract_features(file,model))\n",
    "\n",
    "# pickle.dump(feature_list,open('feature_list_embeddings.pkl','wb'))\n",
    "# pickle.dump(filenames,open('filenames.pkl','wb'))"
   ]
  },
  {
   "cell_type": "code",
   "execution_count": 5,
   "metadata": {},
   "outputs": [
    {
     "name": "stdout",
     "output_type": "stream",
     "text": [
      "(36000, 2048)\n"
     ]
    }
   ],
   "source": [
    "feature_list1=np.array(pickle.load(open('D:\\Programs\\Python\\ML_notebooks\\Fashion_recommendation/feature_list_embeddings.pkl','rb')))\n",
    "print((feature_list1).shape)"
   ]
  },
  {
   "cell_type": "code",
   "execution_count": 6,
   "metadata": {},
   "outputs": [],
   "source": [
    "filenames=pickle.load(open('D:\\Programs\\Python\\ML_notebooks\\Fashion_recommendation/filenames.pkl','rb'))\n"
   ]
  },
  {
   "attachments": {},
   "cell_type": "markdown",
   "metadata": {},
   "source": [
    "# Testing"
   ]
  },
  {
   "cell_type": "code",
   "execution_count": 7,
   "metadata": {},
   "outputs": [
    {
     "name": "stdout",
     "output_type": "stream",
     "text": [
      "1/1 [==============================] - 1s 1s/step\n"
     ]
    }
   ],
   "source": [
    "img=image.load_img('C:/Users\\91901\\Downloads\\My_pic.jpeg',target_size=(224,224))\n",
    "img_array1=image.img_to_array(img)\n",
    "expanded_img_array1=np.expand_dims(img_array1,axis=0)\n",
    "preprocessed_img1=preprocess_input(expanded_img_array1)\n",
    "result1=model.predict(preprocessed_img1).flatten()\n",
    "norm_result1=result1/np.linalg.norm(result1)"
   ]
  },
  {
   "cell_type": "code",
   "execution_count": 8,
   "metadata": {},
   "outputs": [
    {
     "name": "stdout",
     "output_type": "stream",
     "text": [
      "[[11234 34286 25421  2712 25292]]\n"
     ]
    }
   ],
   "source": [
    "neighbours=NearestNeighbors(n_neighbors=5,algorithm='brute',metric='euclidean')\n",
    "neighbours.fit(feature_list1)\n",
    "distance, indices=neighbours.kneighbors([norm_result1])\n",
    "print(indices)"
   ]
  },
  {
   "cell_type": "code",
   "execution_count": 11,
   "metadata": {},
   "outputs": [],
   "source": [
    "# # Load the pkl file\n",
    "# with open (\"D:\\Programs\\Python\\ML_notebooks\\Fashion_recommendation/filenames.pkl\", \"rb\") as f:\n",
    "#     filenames = pickle.load (f)\n",
    "\n",
    "# # Define the new path\n",
    "# new_path = \"D:\\Programs\\Python\\ML_notebooks\\Fashion_recommendation\\images\"\n",
    "\n",
    "# # Loop over the files and change their paths\n",
    "# for file in tqdm(filenames):\n",
    "#     # Get the current path\n",
    "#     old_path = '/kaggle/input/fashion-product-images-dataset/fashion-dataset/images/' + file\n",
    "#     # Get the file name from the path\n",
    "#     file_name = os.path.basename(old_path)\n",
    "#     # Create a new list of modified paths using list comprehension\n",
    "#     new_filenames = [os.path.join(new_path, os.path.basename(file)) for file in filenames]\n",
    "\n",
    "# # Save the modified pkl file\n",
    "# with open (\"filenames.pkl\", \"wb\") as f:\n",
    "#     pickle.dump (new_filenames, f) \n"
   ]
  },
  {
   "cell_type": "code",
   "execution_count": 11,
   "metadata": {},
   "outputs": [],
   "source": [
    "for file in indices[0]:\n",
    "    tmp_img=cv2.imread(filenames[file])\n",
    "    cv2.imshow('output',cv2.resize(tmp_img,(512,512)))\n",
    "    cv2.waitKey(0)"
   ]
  },
  {
   "cell_type": "code",
   "execution_count": null,
   "metadata": {},
   "outputs": [],
   "source": []
  }
 ],
 "metadata": {
  "kernelspec": {
   "display_name": "base",
   "language": "python",
   "name": "python3"
  },
  "language_info": {
   "codemirror_mode": {
    "name": "ipython",
    "version": 3
   },
   "file_extension": ".py",
   "mimetype": "text/x-python",
   "name": "python",
   "nbconvert_exporter": "python",
   "pygments_lexer": "ipython3",
   "version": "3.9.13"
  },
  "orig_nbformat": 4,
  "vscode": {
   "interpreter": {
    "hash": "ee969492e94e239045436ef7bb338913c0db3129a2671d112f970cdaaa34ef8a"
   }
  }
 },
 "nbformat": 4,
 "nbformat_minor": 2
}
